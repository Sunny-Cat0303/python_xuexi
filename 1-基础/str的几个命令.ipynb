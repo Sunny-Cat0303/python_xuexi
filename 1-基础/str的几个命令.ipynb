{
 "cells": [
  {
   "cell_type": "code",
   "execution_count": 2,
   "metadata": {},
   "outputs": [
    {
     "name": "stdout",
     "output_type": "stream",
     "text": [
      "I love wangxiaojing\n"
     ]
    }
   ],
   "source": [
    "# capitalize 首字母大写,其余小写,返回字符串\n",
    "s = 'i love wangxiaojing'\n",
    "\n",
    "print(s.capitalize())"
   ]
  },
  {
   "cell_type": "code",
   "execution_count": 3,
   "metadata": {},
   "outputs": [
    {
     "name": "stdout",
     "output_type": "stream",
     "text": [
      "I Love Wangxiaojing\n"
     ]
    }
   ],
   "source": [
    "# title() 每个单词的首字母变成大写,返回字符串\n",
    "\n",
    "s = 'i love wangxiaojing'\n",
    "\n",
    "s1 = s.title()\n",
    "\n",
    "print(s1)"
   ]
  },
  {
   "cell_type": "code",
   "execution_count": 4,
   "metadata": {},
   "outputs": [
    {
     "name": "stdout",
     "output_type": "stream",
     "text": [
      "I 狗 LIKE DOG\n"
     ]
    }
   ],
   "source": [
    "# upper 所有字母变成大写,返回字符串\n",
    "s = 'I 狗 like dog'\n",
    "print(s.upper())"
   ]
  },
  {
   "cell_type": "code",
   "execution_count": 5,
   "metadata": {},
   "outputs": [
    {
     "name": "stdout",
     "output_type": "stream",
     "text": [
      "i 狗 like dog\n"
     ]
    }
   ],
   "source": [
    "# lower 所有字母小写 返回字符串\n",
    "s = 'I 狗 like dog'\n",
    "print(s.lower())"
   ]
  },
  {
   "cell_type": "code",
   "execution_count": 6,
   "metadata": {},
   "outputs": [
    {
     "name": "stdout",
     "output_type": "stream",
     "text": [
      "i 狗 LIKE DOG\n"
     ]
    }
   ],
   "source": [
    "# swapcase() 大小写互换 返回字符串\n",
    "s = 'I 狗 like dog'\n",
    "print(s.swapcase())"
   ]
  },
  {
   "cell_type": "code",
   "execution_count": 7,
   "metadata": {},
   "outputs": [
    {
     "name": "stdout",
     "output_type": "stream",
     "text": [
      "12\n",
      "10\n"
     ]
    }
   ],
   "source": [
    "# len() 计算字符串长度, 不属于字符串的内建函数\n",
    "# len统计长度是按照字符个数统计, 一个汉字的长度为1\n",
    "s = 'I 狗 like dog'\n",
    "s1 = 'i like dog'\n",
    "\n",
    "print(len(s))\n",
    "print(len(s1))"
   ]
  },
  {
   "cell_type": "code",
   "execution_count": 3,
   "metadata": {},
   "outputs": [
    {
     "name": "stdout",
     "output_type": "stream",
     "text": [
      "2\n",
      "0\n"
     ]
    }
   ],
   "source": [
    "# fing() 查找指定字符串,找不到返回-1 第一次找房返回第一次索引值\n",
    "# index() 查找指定字符串,找不到报错\n",
    "s = 'asdfghjkl'\n",
    "s1 = s.find('d')\n",
    "s2 = s.index('a')\n",
    "print(s1)\n",
    "print(s2)"
   ]
  },
  {
   "cell_type": "code",
   "execution_count": 19,
   "metadata": {},
   "outputs": [
    {
     "name": "stdout",
     "output_type": "stream",
     "text": [
      "2\n"
     ]
    }
   ],
   "source": [
    "# count() 计算字符串出现次数, 返回整形int()\n",
    "s = 'asdfghjklasdfghjkl'\n",
    "print(s.count('s'))"
   ]
  },
  {
   "cell_type": "code",
   "execution_count": 22,
   "metadata": {},
   "outputs": [
    {
     "name": "stdout",
     "output_type": "stream",
     "text": [
      "False\n",
      "True\n",
      "====================\n",
      "True\n",
      "False\n"
     ]
    }
   ],
   "source": [
    "# startswith() 检测是否以指定字母开头 返回布尔值\n",
    "# endswith() 检测是否以指定字母结束\n",
    "\n",
    "s = 'I like dog'\n",
    "print(s.startswith('i'))\n",
    "print(s.startswith('I'))\n",
    "\n",
    "print('=' * 20)\n",
    "\n",
    "print(s.endswith('g'))\n",
    "print(s.endswith('o'))"
   ]
  },
  {
   "cell_type": "code",
   "execution_count": 23,
   "metadata": {},
   "outputs": [
    {
     "name": "stdout",
     "output_type": "stream",
     "text": [
      "False\n",
      "True\n",
      "--------------------\n"
     ]
    }
   ],
   "source": [
    "# isupper() 检测所有字母是否是大写字母 返回都是布尔值\n",
    "s = 'i狗gb'\n",
    "s1 = 'DF狗GH'\n",
    "print(s.isupper())\n",
    "print(s1.isupper())\n",
    "\n",
    "print('-' * 20)\n"
   ]
  },
  {
   "cell_type": "code",
   "execution_count": 24,
   "metadata": {},
   "outputs": [
    {
     "name": "stdout",
     "output_type": "stream",
     "text": [
      "True\n",
      "False\n",
      "--------------------\n"
     ]
    }
   ],
   "source": [
    "# islower() 检测所有字母是否小写字母\n",
    "s = 'i狗gb'\n",
    "s1 = 'DF狗GH'\n",
    "print(s.islower())\n",
    "print(s1.islower())\n",
    "\n",
    "print('-' * 20)\n"
   ]
  },
  {
   "cell_type": "code",
   "execution_count": 28,
   "metadata": {},
   "outputs": [
    {
     "name": "stdout",
     "output_type": "stream",
     "text": [
      "False\n",
      "False\n",
      "True\n"
     ]
    }
   ],
   "source": [
    "# istitle() 检测每个字符是否仅首字母是大写\n",
    "# 若一个字符串内有2个大写也判定为false\n",
    "s = 'i狗gb'\n",
    "s1 = 'D F 狗 G H'\n",
    "print(s.istitle())\n",
    "print(s1.istitle())\n",
    "\n",
    "s2 = 'I Like Dog'\n",
    "print(s2.istitle())"
   ]
  },
  {
   "cell_type": "code",
   "execution_count": 29,
   "metadata": {},
   "outputs": [
    {
     "name": "stdout",
     "output_type": "stream",
     "text": [
      "True\n",
      "False\n",
      "True\n"
     ]
    }
   ],
   "source": [
    "# isspace() 检测字符是否是空字符\n",
    "s = '   '\n",
    "s1 = ' i like'\n",
    "s2 = ' '\n",
    "\n",
    "print(s.isspace())\n",
    "print(s1.isspace())\n",
    "print(s2.isspace())"
   ]
  },
  {
   "cell_type": "code",
   "execution_count": 31,
   "metadata": {},
   "outputs": [
    {
     "name": "stdout",
     "output_type": "stream",
     "text": [
      "False\n",
      "True\n"
     ]
    }
   ],
   "source": [
    "# isalpha() 检测字符串是否是字符组成  返回布尔值\n",
    "s = 'I 狗like dog'\n",
    "s1 = 'i狗likedog'\n",
    "\n",
    "print(s.isalpha())\n",
    "print(s1.isalpha())"
   ]
  },
  {
   "cell_type": "code",
   "execution_count": 4,
   "metadata": {},
   "outputs": [
    {
     "name": "stdout",
     "output_type": "stream",
     "text": [
      "False\n",
      "True\n",
      "True\n",
      "True\n"
     ]
    }
   ],
   "source": [
    "# isalnum() 检测是否是由数字或字符组成 返回布尔值\n",
    "s = 'I 狗like2039 dog'\n",
    "s1 = 'I狗like29212313'\n",
    "s2 = '2233'\n",
    "s3 = 'djdjdj'\n",
    "\n",
    "print(s.isalnum())\n",
    "print(s1.isalnum())\n",
    "print(s2.isalnum())\n",
    "print(s3.isalnum())"
   ]
  },
  {
   "cell_type": "code",
   "execution_count": 41,
   "metadata": {},
   "outputs": [
    {
     "name": "stdout",
     "output_type": "stream",
     "text": [
      "Help on method_descriptor:\n",
      "\n",
      "isdigit(self, /)\n",
      "    Return True if the string is a digit string, False otherwise.\n",
      "    \n",
      "    A string is a digit string if all characters in the string are digits and there\n",
      "    is at least one character in the string.\n",
      "\n",
      "Help on method_descriptor:\n",
      "\n",
      "isdecimal(self, /)\n",
      "    Return True if the string is a decimal string, False otherwise.\n",
      "    \n",
      "    A string is a decimal string if all characters in the string are decimal and\n",
      "    there is at least one character in the string.\n",
      "\n",
      "Help on method_descriptor:\n",
      "\n",
      "isnumeric(self, /)\n",
      "    Return True if the string is a numeric string, False otherwise.\n",
      "    \n",
      "    A string is numeric if all characters in the string are numeric and there is at\n",
      "    least one character in the string.\n",
      "\n"
     ]
    }
   ],
   "source": [
    "# isdigit() 是否为全部数字组成0-9\n",
    "# isdecimal() 阿拉伯数字\n",
    "# isnumeric() 数字(包含中 阿拉伯)\n",
    "\n",
    "help(str.isdigit)\n",
    "help(str.isdecimal)\n",
    "help(str.isnumeric)"
   ]
  },
  {
   "cell_type": "code",
   "execution_count": 9,
   "metadata": {},
   "outputs": [
    {
     "name": "stdout",
     "output_type": "stream",
     "text": [
      "['日照香炉生紫烟', '疑是银河落九天', '飞流直下三千尺']\n",
      "<class 'list'>\n"
     ]
    }
   ],
   "source": [
    "# split()  用指定字符切割字符串 返回出字符串组成的列表\n",
    "s = '日照香炉生紫烟*疑是银河落九天*飞流直下三千尺'\n",
    "list1 = s.split('*')\n",
    "print(list1)\n",
    "print(type(list1))"
   ]
  },
  {
   "cell_type": "code",
   "execution_count": 47,
   "metadata": {},
   "outputs": [
    {
     "name": "stdout",
     "output_type": "stream",
     "text": [
      "['日照香炉生紫烟', '疑是银河', '落九天', '飞流直下三千尺']\n"
     ]
    }
   ],
   "source": [
    "# splitlines() 用换行进行切换\n",
    "s = '''日照香炉生紫烟\\n疑是银河\n",
    "落九天\\n飞流直下三千尺'''\n",
    "print(s.splitlines())\n"
   ]
  },
  {
   "cell_type": "code",
   "execution_count": 49,
   "metadata": {},
   "outputs": [
    {
     "name": "stdout",
     "output_type": "stream",
     "text": [
      "日照香炉生紫烟111疑是银河落九天111飞流直下三千尺\n"
     ]
    }
   ],
   "source": [
    "# join() 将列表按照指定字符串链接  返回的是字符串\n",
    "list1 = ['日照香炉生紫烟', '疑是银河落九天', '飞流直下三千尺']\n",
    "s = '111'.join(list1)\n",
    "print(s)"
   ]
  },
  {
   "cell_type": "code",
   "execution_count": 53,
   "metadata": {},
   "outputs": [
    {
     "name": "stdout",
     "output_type": "stream",
     "text": [
      "3\n",
      "abc  a\n",
      "abcaa\n"
     ]
    }
   ],
   "source": [
    "# ljust() 指定字符串的长度,内容靠左,不总的位置用字符填充,默认空格,返回字符串\n",
    "s = 'abc'\n",
    "print(len(s))\n",
    "print(s.ljust(5) + 'a')\n",
    "print(s.ljust(5, 'a'))"
   ]
  },
  {
   "cell_type": "code",
   "execution_count": 51,
   "metadata": {},
   "outputs": [
    {
     "name": "stdout",
     "output_type": "stream",
     "text": [
      "#abc#\n"
     ]
    }
   ],
   "source": [
    "# center() 指定字符串的长度,内容居中,不总的位置用字符填充,默认空格,返回字符串\n",
    "print(s.center(5, '#'))"
   ]
  },
  {
   "cell_type": "code",
   "execution_count": 52,
   "metadata": {},
   "outputs": [
    {
     "name": "stdout",
     "output_type": "stream",
     "text": [
      "##abc\n"
     ]
    }
   ],
   "source": [
    "# rjust() 指定字符串的长度,内容靠右,不总的位置用字符填充,默认空格,返回字符串\n",
    "print(s.rjust(5, '#'))"
   ]
  },
  {
   "cell_type": "code",
   "execution_count": 10,
   "metadata": {},
   "outputs": [
    {
     "name": "stdout",
     "output_type": "stream",
     "text": [
      "---abc---\n",
      "---  abc ---\n",
      "---abc ---\n",
      "---  abc ---\n",
      "---  abc---\n",
      "---  abc ---\n",
      "bacdeeee\n",
      "aaaabacdeeee\n",
      "aaaabacd\n",
      "aaaabacdeeee\n"
     ]
    }
   ],
   "source": [
    "# strip() 去掉左右两边指定字符串, 默认去掉空格\n",
    "# lstrip() 去掉左\n",
    "# rstrip() 去掉右\n",
    "\n",
    "s = '  abc '\n",
    "print('---' + s.strip() + '---')\n",
    "print('---' + s + '---')\n",
    "\n",
    "print('---' + s.lstrip() + '---')\n",
    "print('---' + s + '---')\n",
    "\n",
    "print('---' + s.rstrip() + '---')\n",
    "print('---' + s + '---')\n",
    "\n",
    "s1 = 'aaaabacdeeee'\n",
    "print(s1.lstrip('a'))\n",
    "print(s1.lstrip('b'))\n",
    "\n",
    "print(s1.rstrip('e'))\n",
    "print(s1.rstrip('d'))"
   ]
  },
  {
   "cell_type": "code",
   "execution_count": 62,
   "metadata": {},
   "outputs": [
    {
     "name": "stdout",
     "output_type": "stream",
     "text": [
      "00abc\n"
     ]
    }
   ],
   "source": [
    "# zfill() 指定字符串长度 内容靠右 不足位置用0补充\n",
    "\n",
    "s = 'abc'\n",
    "print(s.zfill(5))"
   ]
  },
  {
   "cell_type": "code",
   "execution_count": 63,
   "metadata": {},
   "outputs": [
    {
     "name": "stdout",
     "output_type": "stream",
     "text": [
      "{23567: 22823, 28818: 30333, 32905: 33756}\n",
      "今天晚上我吃的大白菜,可好吃了\n"
     ]
    }
   ],
   "source": [
    "# maketrans()  生成用户字符串替换的映射表\n",
    "# translate()  进行字符串替换\n",
    "\n",
    "s = '今天晚上我吃的小炒肉,可好吃了'\n",
    "table = s.maketrans('小炒肉', '大白菜')\n",
    "print(table)\n",
    "print(s.translate(table))"
   ]
  },
  {
   "cell_type": "code",
   "execution_count": 64,
   "metadata": {},
   "outputs": [
    {
     "ename": "ValueError",
     "evalue": "the first two maketrans arguments must have equal length",
     "output_type": "error",
     "traceback": [
      "\u001b[1;31m---------------------------------------------------------------------------\u001b[0m",
      "\u001b[1;31mValueError\u001b[0m                                Traceback (most recent call last)",
      "\u001b[1;32m<ipython-input-64-50c73b830442>\u001b[0m in \u001b[0;36m<module>\u001b[1;34m()\u001b[0m\n\u001b[0;32m      1\u001b[0m \u001b[0ms\u001b[0m \u001b[1;33m=\u001b[0m \u001b[1;34m'今天晚上我吃的小炒肉,可好吃了'\u001b[0m\u001b[1;33m\u001b[0m\u001b[0m\n\u001b[1;32m----> 2\u001b[1;33m \u001b[0mtable\u001b[0m \u001b[1;33m=\u001b[0m \u001b[0ms\u001b[0m\u001b[1;33m.\u001b[0m\u001b[0mmaketrans\u001b[0m\u001b[1;33m(\u001b[0m\u001b[1;34m'小炒肉'\u001b[0m\u001b[1;33m,\u001b[0m \u001b[1;34m'大白菜和粉条'\u001b[0m\u001b[1;33m)\u001b[0m\u001b[1;33m\u001b[0m\u001b[0m\n\u001b[0m\u001b[0;32m      3\u001b[0m \u001b[0mprint\u001b[0m\u001b[1;33m(\u001b[0m\u001b[0mtable\u001b[0m\u001b[1;33m)\u001b[0m\u001b[1;33m\u001b[0m\u001b[0m\n\u001b[0;32m      4\u001b[0m \u001b[0mprint\u001b[0m\u001b[1;33m(\u001b[0m\u001b[0ms\u001b[0m\u001b[1;33m.\u001b[0m\u001b[0mtranslate\u001b[0m\u001b[1;33m(\u001b[0m\u001b[0mtable\u001b[0m\u001b[1;33m)\u001b[0m\u001b[1;33m)\u001b[0m\u001b[1;33m\u001b[0m\u001b[0m\n",
      "\u001b[1;31mValueError\u001b[0m: the first two maketrans arguments must have equal length"
     ]
    }
   ],
   "source": [
    "s = '今天晚上我吃的小炒肉,可好吃了'\n",
    "table = s.maketrans('小炒肉', '大白菜和粉条')\n",
    "print(table)\n",
    "print(s.translate(table))"
   ]
  },
  {
   "cell_type": "code",
   "execution_count": null,
   "metadata": {},
   "outputs": [],
   "source": []
  }
 ],
 "metadata": {
  "kernelspec": {
   "display_name": "Python 3",
   "language": "python",
   "name": "python3"
  },
  "language_info": {
   "codemirror_mode": {
    "name": "ipython",
    "version": 3
   },
   "file_extension": ".py",
   "mimetype": "text/x-python",
   "name": "python",
   "nbconvert_exporter": "python",
   "pygments_lexer": "ipython3",
   "version": "3.7.0"
  }
 },
 "nbformat": 4,
 "nbformat_minor": 2
}
