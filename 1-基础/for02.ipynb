{
 "cells": [
  {
   "cell_type": "code",
   "execution_count": 7,
   "metadata": {},
   "outputs": [
    {
     "name": "stdout",
     "output_type": "stream",
     "text": [
      "* \n",
      "* * \n",
      "* * * \n",
      "* * * * \n",
      "* * * * * \n"
     ]
    }
   ],
   "source": [
    "# 打印以下三角形\n",
    "'''\n",
    "*\n",
    "* *\n",
    "* * *\n",
    "* * * *\n",
    "* * * * *\n",
    "'''\n",
    "# 直接打印\n",
    "print('* ')\n",
    "print('* * ')\n",
    "print('* * * ')\n",
    "print('* * * * ')\n",
    "print('* * * * * ')"
   ]
  },
  {
   "cell_type": "code",
   "execution_count": 11,
   "metadata": {},
   "outputs": [
    {
     "name": "stdout",
     "output_type": "stream",
     "text": [
      "* \n",
      "* * \n",
      "* * * \n",
      "* * * * \n",
      "* * * * * \n"
     ]
    }
   ],
   "source": [
    "# for\n",
    "# 逐次按行打印,这件事基本是一件或者相似的,优先考虑循环\n",
    "\n",
    "for i in range(5) :\n",
    "    # 打印一行\n",
    "    #每一行打印机个星号,跟行号相关\n",
    "    # 一行内打印不需要换行,一行打印完毕换行\n",
    "    for j in range(i+1):\n",
    "        print('* ', end='')\n",
    "    print()"
   ]
  },
  {
   "cell_type": "code",
   "execution_count": 14,
   "metadata": {},
   "outputs": [
    {
     "name": "stdout",
     "output_type": "stream",
     "text": [
      "* \n",
      "* * \n",
      "*    * \n",
      "*      * \n",
      "* * * * *  \n"
     ]
    }
   ],
   "source": [
    "\"\"\"\n",
    "# 打印空三角形\n",
    "*\n",
    "* *\n",
    "*   *\n",
    "*     *\n",
    "* * * * *\n",
    "\n",
    "\"\"\"\n",
    "\n",
    "# 第一个方法,直接使用print\n",
    "print('* ')\n",
    "print('* * ')\n",
    "print('*    * ')\n",
    "print('*      * ')\n",
    "print('* * * * *  ')"
   ]
  },
  {
   "cell_type": "code",
   "execution_count": 27,
   "metadata": {},
   "outputs": [
    {
     "name": "stdout",
     "output_type": "stream",
     "text": [
      "* * * *   * *     * * * * * * "
     ]
    }
   ],
   "source": [
    "# for循环\n",
    "for i in range(5):\n",
    "    # 打印一行\n",
    "    #每一行打印机个星号,跟行号相关\n",
    "    # 一行内打印不需要换行,一行打印完毕换行\n",
    "    # 需要判定打印的时候是最后一行,如果是,则打印全部型号\n",
    "    # 否则,需要判定是否是第一个和最后一个位置,如果是则打印星号,否则打印空格\n",
    "    for j in range(i+1):\n",
    "        if i == 4:\n",
    "            print('* ', end='')\n",
    "            continue\n",
    "        # 如果不是最后一行\n",
    "        # j控制的是列数\n",
    "        if j==0 or j==i:\n",
    "            print('* ', end='')\n",
    "        else:\n",
    "            print('  ', end='')"
   ]
  },
  {
   "cell_type": "code",
   "execution_count": 22,
   "metadata": {},
   "outputs": [
    {
     "name": "stdout",
     "output_type": "stream",
     "text": [
      "* * * * * \n",
      "* * * * \n",
      "* * * \n",
      "* * \n",
      "* \n"
     ]
    }
   ],
   "source": [
    "# 打印倒立三角\n",
    "'''\n",
    "* * * * *\n",
    "* * * *\n",
    "* * *\n",
    "* * \n",
    "*\n",
    "'''\n",
    "\n",
    "# i-for控制行号\n",
    "# j-for控制列号\n",
    "for i in range(5):\n",
    "    for j in range(5-i):\n",
    "        print('* ', end='')\n",
    "    print()"
   ]
  },
  {
   "cell_type": "code",
   "execution_count": 23,
   "metadata": {},
   "outputs": [
    {
     "name": "stdout",
     "output_type": "stream",
     "text": [
      "* * * * * \n",
      "* * * * \n",
      "* * * \n",
      "* * \n",
      "* \n"
     ]
    }
   ],
   "source": [
    "# i-for控制行号\n",
    "# j-for控制列号\n",
    "# 使用参数控制range结果\n",
    "for i in range(5,0,-1):\n",
    "    for j in range(i,0,-1):\n",
    "        print('* ', end='')\n",
    "    print()"
   ]
  },
  {
   "cell_type": "code",
   "execution_count": 24,
   "metadata": {},
   "outputs": [
    {
     "name": "stdout",
     "output_type": "stream",
     "text": [
      "* * * * * \n",
      "* *     \n",
      "*   * \n",
      "*   \n",
      "* \n"
     ]
    }
   ],
   "source": [
    "# 打印空三角\n",
    "'''\n",
    "* * * * *\n",
    "*     *\n",
    "*   *\n",
    "* *\n",
    "*\n",
    "'''\n",
    "\n",
    "# i-for控制行号\n",
    "# j-for控制列号\n",
    "# 使用参数控制range结果\n",
    "for i in range(5):\n",
    "    for j in range(5-i):\n",
    "        if i == 0:\n",
    "            print('* ', end='')\n",
    "            continue\n",
    "        if j == 0 or j == i:\n",
    "            print('* ', end='')\n",
    "        else:\n",
    "            print(\"  \", end='')\n",
    "    print()"
   ]
  },
  {
   "cell_type": "code",
   "execution_count": null,
   "metadata": {},
   "outputs": [],
   "source": []
  }
 ],
 "metadata": {
  "kernelspec": {
   "display_name": "Python 3",
   "language": "python",
   "name": "python3"
  },
  "language_info": {
   "codemirror_mode": {
    "name": "ipython",
    "version": 3
   },
   "file_extension": ".py",
   "mimetype": "text/x-python",
   "name": "python",
   "nbconvert_exporter": "python",
   "pygments_lexer": "ipython3",
   "version": "3.7.0"
  }
 },
 "nbformat": 4,
 "nbformat_minor": 2
}
